{
 "cells": [
  {
   "cell_type": "code",
   "execution_count": 13,
   "metadata": {},
   "outputs": [],
   "source": [
    "import re\n",
    "import time\n",
    "import random\n",
    "from selenium import webdriver\n",
    "from threading import Thread"
   ]
  },
  {
   "cell_type": "code",
   "execution_count": 20,
   "metadata": {},
   "outputs": [],
   "source": [
    "class Hongzha(object):\n",
    "    def __init__(self):\n",
    "        self.phone = \"15527183159\" #Phone Number\n",
    "        self.num = 0\n",
    "        self.path = r'C:\\Users\\chenc\\ip.txt'\n",
    "    \n",
    "    def send_yanzhengma(self,name,ip):\n",
    "        self.num += 1\n",
    "        print(\"{}   第{}次   发送成功 {}   当前ip {}\".format(self.phone,self.num,name,ip))\n",
    "        time.sleep(3)\n",
    "    # 返回一个随机ip\n",
    "    def chooseip(self,path):\n",
    "        with open(path, 'r') as r:\n",
    "            iptool = r.read().split()\n",
    "        return random.choice(iptool)\n",
    "    \n",
    "    # 返回一个随机的请求头 headers\n",
    "    def getheaders(self):\n",
    "        user_agent_list = [ \\\n",
    "            \"Mozilla/5.0 (Windows NT 6.1; WOW64) AppleWebKit/537.1 (KHTML, like Gecko) Chrome/22.0.1207.1 Safari/537.1\" \\\n",
    "            \"Mozilla/5.0 (X11; CrOS i686 2268.111.0) AppleWebKit/536.11 (KHTML, like Gecko) Chrome/20.0.1132.57 Safari/536.11\", \\\n",
    "            \"Mozilla/5.0 (Windows NT 6.1; WOW64) AppleWebKit/536.6 (KHTML, like Gecko) Chrome/20.0.1092.0 Safari/536.6\", \\\n",
    "            \"Mozilla/5.0 (Windows NT 6.2) AppleWebKit/536.6 (KHTML, like Gecko) Chrome/20.0.1090.0 Safari/536.6\", \\\n",
    "            \"Mozilla/5.0 (Windows NT 6.2; WOW64) AppleWebKit/537.1 (KHTML, like Gecko) Chrome/19.77.34.5 Safari/537.1\", \\\n",
    "            \"Mozilla/5.0 (X11; Linux x86_64) AppleWebKit/536.5 (KHTML, like Gecko) Chrome/19.0.1084.9 Safari/536.5\", \\\n",
    "            \"Mozilla/5.0 (Windows NT 6.0) AppleWebKit/536.5 (KHTML, like Gecko) Chrome/19.0.1084.36 Safari/536.5\", \\\n",
    "            \"Mozilla/5.0 (Windows NT 6.1; WOW64) AppleWebKit/536.3 (KHTML, like Gecko) Chrome/19.0.1063.0 Safari/536.3\", \\\n",
    "            \"Mozilla/5.0 (Windows NT 5.1) AppleWebKit/536.3 (KHTML, like Gecko) Chrome/19.0.1063.0 Safari/536.3\", \\\n",
    "            \"Mozilla/5.0 (Macintosh; Intel Mac OS X 10_8_0) AppleWebKit/536.3 (KHTML, like Gecko) Chrome/19.0.1063.0 Safari/536.3\", \\\n",
    "            \"Mozilla/5.0 (Windows NT 6.2) AppleWebKit/536.3 (KHTML, like Gecko) Chrome/19.0.1062.0 Safari/536.3\", \\\n",
    "            \"Mozilla/5.0 (Windows NT 6.1; WOW64) AppleWebKit/536.3 (KHTML, like Gecko) Chrome/19.0.1062.0 Safari/536.3\", \\\n",
    "            \"Mozilla/5.0 (Windows NT 6.2) AppleWebKit/536.3 (KHTML, like Gecko) Chrome/19.0.1061.1 Safari/536.3\", \\\n",
    "            \"Mozilla/5.0 (Windows NT 6.1; WOW64) AppleWebKit/536.3 (KHTML, like Gecko) Chrome/19.0.1061.1 Safari/536.3\", \\\n",
    "            \"Mozilla/5.0 (Windows NT 6.1) AppleWebKit/536.3 (KHTML, like Gecko) Chrome/19.0.1061.1 Safari/536.3\", \\\n",
    "            \"Mozilla/5.0 (Windows NT 6.2) AppleWebKit/536.3 (KHTML, like Gecko) Chrome/19.0.1061.0 Safari/536.3\", \\\n",
    "            \"Mozilla/5.0 (X11; Linux x86_64) AppleWebKit/535.24 (KHTML, like Gecko) Chrome/19.0.1055.1 Safari/535.24\", \\\n",
    "            \"Mozilla/5.0 (Windows NT 6.2; WOW64) AppleWebKit/535.24 (KHTML, like Gecko) Chrome/19.0.1055.1 Safari/535.24\"\n",
    "        ]\n",
    "        UserAgent=random.choice(user_agent_list)\n",
    "        headers = {'User-Agent': UserAgent}\n",
    "        return headers\n",
    "\n",
    "    #网站1 瓜子车网站\n",
    "    def web1(self,name):\n",
    "        while True:\n",
    "            #设置Chrome无界面启动运行\n",
    "            options = webdriver.FirefoxOptions()\n",
    "            #options.set_headless()\n",
    "            proxyip = self.chooseip(self.path)\n",
    "            header = self.getheaders()\n",
    "            options.add_argument(\"--proxy-server=https://%s\"%proxyip)\n",
    "            options.add_argument('user-agent=%s'%header)\n",
    "            driver = webdriver.Firefox(options=options)\n",
    "            driver.get(\"http://www.guazi.com/nc/\")    #网址\n",
    "            time.sleep(3)\n",
    "            driver.find_element_by_xpath(\"//a[@class='close js-close-finance-popup']\").click()\n",
    "            driver.find_element_by_xpath(\"//a[@class='uc-my']\").click ()\n",
    "            time.sleep(3)\n",
    "            tel =driver.find_element_by_xpath(\"//input[@placeholder='请输入您的手机号码']\")\n",
    "            tel.send_keys(self.phone)\n",
    "            driver.find_element_by_xpath(\"//button[@class='get-code']\").click()\n",
    "            driver.get('http://httpbin.org/ip')\n",
    "            currentip = re.findall('\"origin\": \"(.*?)\"', browser.page_source, re.S)[0]\n",
    "            self.send_yanzhengma(name,currentip)\n",
    "            driver.quit()\n",
    "            time.sleep(60)\n",
    "            \n",
    "    #网站2 房天下网站\n",
    "    def web2(self, name):\n",
    "        while True:\n",
    "            options = webdriver.FirefoxOptions()\n",
    "            proxyip = self.chooseip(self.path)\n",
    "            options.add_argument(\"--proxy-server=https://%s\"%proxyip)\n",
    "            driver = webdriver.Firefox()\n",
    "            driver.get('https://passport.fang.com/?backurl=http://wuhan.fang.com/')    #网址\n",
    "            time.sleep(2)\n",
    "            tel =driver.find_element_by_xpath('//*[@id=\"tel\"]')\n",
    "            tel.send_keys(self.phone)\n",
    "            button = driver.find_element_by_xpath('//*[@id=\"send\"]').click()\n",
    "            driver.get('http://httpbin.org/ip')\n",
    "            currentip = re.findall('\"origin\": \"(.*?)\"', browser.page_source, re.S)[0]\n",
    "            self.send_yanzhengma(name,currentip)\n",
    "            driver.quit()\n",
    "            time.sleep(60)"
   ]
  },
  {
   "cell_type": "code",
   "execution_count": 21,
   "metadata": {},
   "outputs": [
    {
     "name": "stderr",
     "output_type": "stream",
     "text": [
      "Exception in thread Thread-9:\n",
      "Traceback (most recent call last):\n",
      "  File \"C:\\ProgramData\\Anaconda3\\lib\\threading.py\", line 916, in _bootstrap_inner\n",
      "    self.run()\n",
      "  File \"C:\\ProgramData\\Anaconda3\\lib\\threading.py\", line 864, in run\n",
      "    self._target(*self._args, **self._kwargs)\n",
      "  File \"<ipython-input-20-915b29be4665>\", line 63, in web2\n",
      "    currentip = re.findall('\"origin\": \"(.*?)\"', browser.page_source, re.S)[0]\n",
      "  File \"C:\\ProgramData\\Anaconda3\\lib\\site-packages\\selenium\\webdriver\\remote\\webdriver.py\", line 678, in page_source\n",
      "    return self.execute(Command.GET_PAGE_SOURCE)['value']\n",
      "  File \"C:\\ProgramData\\Anaconda3\\lib\\site-packages\\selenium\\webdriver\\remote\\webdriver.py\", line 318, in execute\n",
      "    response = self.command_executor.execute(driver_command, params)\n",
      "  File \"C:\\ProgramData\\Anaconda3\\lib\\site-packages\\selenium\\webdriver\\remote\\remote_connection.py\", line 472, in execute\n",
      "    return self._request(command_info[0], url, body=data)\n",
      "  File \"C:\\ProgramData\\Anaconda3\\lib\\site-packages\\selenium\\webdriver\\remote\\remote_connection.py\", line 495, in _request\n",
      "    self._conn.request(method, parsed_url.path, body, headers)\n",
      "  File \"C:\\ProgramData\\Anaconda3\\lib\\http\\client.py\", line 1239, in request\n",
      "    self._send_request(method, url, body, headers, encode_chunked)\n",
      "  File \"C:\\ProgramData\\Anaconda3\\lib\\http\\client.py\", line 1285, in _send_request\n",
      "    self.endheaders(body, encode_chunked=encode_chunked)\n",
      "  File \"C:\\ProgramData\\Anaconda3\\lib\\http\\client.py\", line 1234, in endheaders\n",
      "    self._send_output(message_body, encode_chunked=encode_chunked)\n",
      "  File \"C:\\ProgramData\\Anaconda3\\lib\\http\\client.py\", line 1026, in _send_output\n",
      "    self.send(msg)\n",
      "  File \"C:\\ProgramData\\Anaconda3\\lib\\http\\client.py\", line 986, in send\n",
      "    self.sock.sendall(data)\n",
      "ConnectionAbortedError: [WinError 10053] 你的主机中的软件中止了一个已建立的连接。\n",
      "\n",
      "Exception in thread Thread-8:\n",
      "Traceback (most recent call last):\n",
      "  File \"C:\\ProgramData\\Anaconda3\\lib\\threading.py\", line 916, in _bootstrap_inner\n",
      "    self.run()\n",
      "  File \"C:\\ProgramData\\Anaconda3\\lib\\threading.py\", line 864, in run\n",
      "    self._target(*self._args, **self._kwargs)\n",
      "  File \"<ipython-input-20-915b29be4665>\", line 45, in web1\n",
      "    currentip = re.findall('\"origin\": \"(.*?)\"', browser.page_source, re.S)[0]\n",
      "  File \"C:\\ProgramData\\Anaconda3\\lib\\site-packages\\selenium\\webdriver\\remote\\webdriver.py\", line 678, in page_source\n",
      "    return self.execute(Command.GET_PAGE_SOURCE)['value']\n",
      "  File \"C:\\ProgramData\\Anaconda3\\lib\\site-packages\\selenium\\webdriver\\remote\\webdriver.py\", line 320, in execute\n",
      "    self.error_handler.check_response(response)\n",
      "  File \"C:\\ProgramData\\Anaconda3\\lib\\site-packages\\selenium\\webdriver\\remote\\errorhandler.py\", line 242, in check_response\n",
      "    raise exception_class(message, screen, stacktrace)\n",
      "selenium.common.exceptions.WebDriverException: Message: Failed to decode response from marionette\n",
      "\n",
      "\n"
     ]
    }
   ],
   "source": [
    "if __name__ == '__main__':\n",
    "    hongzha = Hongzha()\n",
    "\n",
    "    web1 = Thread(target=hongzha.web1,args=(\"web1\",))\n",
    "    web2 = Thread(target=hongzha.web2,args=(\"web2\",))\n",
    "    \n",
    "    web1.start()\n",
    "    web2.start()"
   ]
  },
  {
   "cell_type": "code",
   "execution_count": 19,
   "metadata": {},
   "outputs": [
    {
     "ename": "AttributeError",
     "evalue": "'NoneType' object has no attribute 'page_source'",
     "output_type": "error",
     "traceback": [
      "\u001b[1;31m---------------------------------------------------------------------------\u001b[0m",
      "\u001b[1;31mAttributeError\u001b[0m                            Traceback (most recent call last)",
      "\u001b[1;32m<ipython-input-19-0a3801c4c622>\u001b[0m in \u001b[0;36m<module>\u001b[1;34m()\u001b[0m\n\u001b[0;32m      1\u001b[0m \u001b[0mbrowser\u001b[0m \u001b[1;33m=\u001b[0m \u001b[0mwebdriver\u001b[0m\u001b[1;33m.\u001b[0m\u001b[0mFirefox\u001b[0m\u001b[1;33m(\u001b[0m\u001b[1;33m)\u001b[0m\u001b[1;33m\u001b[0m\u001b[0m\n\u001b[1;32m----> 2\u001b[1;33m \u001b[0mbrowser\u001b[0m\u001b[1;33m.\u001b[0m\u001b[0mget\u001b[0m\u001b[1;33m(\u001b[0m\u001b[1;34m'http://httpbin.org/ip'\u001b[0m\u001b[1;33m)\u001b[0m\u001b[1;33m.\u001b[0m\u001b[0mpage_source\u001b[0m\u001b[1;33m\u001b[0m\u001b[0m\n\u001b[0m",
      "\u001b[1;31mAttributeError\u001b[0m: 'NoneType' object has no attribute 'page_source'"
     ]
    }
   ],
   "source": [
    "browser = webdriver.Firefox()\n",
    "browser.get('http://httpbin.org/ip')"
   ]
  },
  {
   "cell_type": "code",
   "execution_count": 18,
   "metadata": {},
   "outputs": [
    {
     "name": "stdout",
     "output_type": "stream",
     "text": [
      "61.187.102.100\n"
     ]
    }
   ],
   "source": [
    "print(re.findall('\"origin\": \"(.*?)\"', browser.page_source, re.S)[0])"
   ]
  },
  {
   "cell_type": "code",
   "execution_count": null,
   "metadata": {},
   "outputs": [],
   "source": []
  }
 ],
 "metadata": {
  "kernelspec": {
   "display_name": "Python 3",
   "language": "python",
   "name": "python3"
  },
  "language_info": {
   "codemirror_mode": {
    "name": "ipython",
    "version": 3
   },
   "file_extension": ".py",
   "mimetype": "text/x-python",
   "name": "python",
   "nbconvert_exporter": "python",
   "pygments_lexer": "ipython3",
   "version": "3.6.5"
  }
 },
 "nbformat": 4,
 "nbformat_minor": 2
}
